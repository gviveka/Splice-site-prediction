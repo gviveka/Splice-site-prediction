{
 "cells": [
  {
   "cell_type": "markdown",
   "metadata": {},
   "source": [
    "### Import Libraries"
   ]
  },
  {
   "cell_type": "code",
   "execution_count": 5,
   "metadata": {
    "collapsed": true
   },
   "outputs": [],
   "source": [
    "import pandas as pd\n",
    "import scipy.io\n",
    "from itertools import combinations_with_replacement as cwr"
   ]
  },
  {
   "cell_type": "markdown",
   "metadata": {},
   "source": [
    "### Import data"
   ]
  },
  {
   "cell_type": "code",
   "execution_count": 6,
   "metadata": {},
   "outputs": [
    {
     "data": {
      "text/plain": [
       "{'LT': array([[-1., -1.,  1., ..., -1., -1., -1.]]),\n",
       " 'XT': array([ 'ATGTTCAGTATATGGAGAAGTGAAAATTGAAGTTCACTTTGAGATCACTAAAATGAGCGGAGTTTTGGCAAGAAAAACGGTGAATTTTGATGAAAAAATGAAAGAATTCTCGGATGTTGTACTGGTGGTTGGAGAGGAGAA',\n",
       "        'TGACAGAGGAGGTCGTGGCCGATCTAATGGAGCCCCACGCGAAAGTCGAGGAGAAAGCCGAGAACATAATCGTGAGACTCGTGATAATAAAGAAGGTGGAGCCCCTCGCCCAACCCGTGGCGGTTTCGAACGGCCCTACGT',\n",
       "        'ATCGTTTAGATTTATTATAAAGATTGTTGTGTTTCGAATGATTGTTTGCAAACCTTTTAAAGAACGAGTCTCAACTTCTAGCCGCAGGAATTTTATCGACGTTCTGCCTGAACCGAAAAGTACTGAAATTCCTTCCATTGA',\n",
       "        ...,\n",
       "        'GTCGGAAAACAAAACAATTATCGATTTTTGTGGTTCTCGCACTCATTTTTCTCTCTTTTCAGTCAAATTACTCGAATTGAAAACAGAAAACAAAACACTATGAAAAGACTGCAAGCTAGCCAAAATAATTATCGATTTTTG',\n",
       "        'CTCGCTCCACCCTGCGTTTCCTCTCAATACTTCTTGAAACAGTGTTGTGCCACGAGATGAAGTGTGGACATGTGAAGGTAGCGGTAATATTTTTGCCCGTGCACAAGTTTGTCTTCTCTTGTTGAAATGTTTTTCATATGT',\n",
       "        'GTTCTTACAACTGCGCTCCACCGAAATGCCCTTGAAAATGTCTCTTTTTCTCTGAGTCTCAGAATTTCGCGCACTATTTTCTCCGGTTCCGGTAGAGCGCGGTTGTAAGATGGGTGTCGTGCTAGTATATGCTATAACTCG'],\n",
       "       dtype='<U141')}"
      ]
     },
     "execution_count": 6,
     "metadata": {},
     "output_type": "execute_result"
    }
   ],
   "source": [
    "mat = scipy.io.loadmat(r'C:\\downloads\\NIPS2008_train_data_matlab\\remanei_size=25000_subsample=1.mat')\n",
    "mat"
   ]
  },
  {
   "cell_type": "code",
   "execution_count": 7,
   "metadata": {},
   "outputs": [
    {
     "data": {
      "text/plain": [
       "25000"
      ]
     },
     "execution_count": 7,
     "metadata": {},
     "output_type": "execute_result"
    }
   ],
   "source": [
    "len(list(mat['LT'][0]))"
   ]
  },
  {
   "cell_type": "markdown",
   "metadata": {},
   "source": [
    "Final Data Set"
   ]
  },
  {
   "cell_type": "code",
   "execution_count": 8,
   "metadata": {},
   "outputs": [
    {
     "data": {
      "text/html": [
       "<div>\n",
       "<style>\n",
       "    .dataframe thead tr:only-child th {\n",
       "        text-align: right;\n",
       "    }\n",
       "\n",
       "    .dataframe thead th {\n",
       "        text-align: left;\n",
       "    }\n",
       "\n",
       "    .dataframe tbody tr th {\n",
       "        vertical-align: top;\n",
       "    }\n",
       "</style>\n",
       "<table border=\"1\" class=\"dataframe\">\n",
       "  <thead>\n",
       "    <tr style=\"text-align: right;\">\n",
       "      <th></th>\n",
       "      <th>label</th>\n",
       "      <th>DNA</th>\n",
       "    </tr>\n",
       "  </thead>\n",
       "  <tbody>\n",
       "    <tr>\n",
       "      <th>0</th>\n",
       "      <td>-1.0</td>\n",
       "      <td>ATGTTCAGTATATGGAGAAGTGAAAATTGAAGTTCACTTTGAGATC...</td>\n",
       "    </tr>\n",
       "    <tr>\n",
       "      <th>1</th>\n",
       "      <td>-1.0</td>\n",
       "      <td>TGACAGAGGAGGTCGTGGCCGATCTAATGGAGCCCCACGCGAAAGT...</td>\n",
       "    </tr>\n",
       "    <tr>\n",
       "      <th>2</th>\n",
       "      <td>1.0</td>\n",
       "      <td>ATCGTTTAGATTTATTATAAAGATTGTTGTGTTTCGAATGATTGTT...</td>\n",
       "    </tr>\n",
       "    <tr>\n",
       "      <th>3</th>\n",
       "      <td>-1.0</td>\n",
       "      <td>GCGTCGACAGACTCGTCGAGTACGGTAAGTACAGTAAGACACTCTT...</td>\n",
       "    </tr>\n",
       "    <tr>\n",
       "      <th>4</th>\n",
       "      <td>-1.0</td>\n",
       "      <td>ACGATTCTTCAATCGATCGAAAGGAACTGCCAGACACTCTGGTTTC...</td>\n",
       "    </tr>\n",
       "  </tbody>\n",
       "</table>\n",
       "</div>"
      ],
      "text/plain": [
       "   label                                                DNA\n",
       "0   -1.0  ATGTTCAGTATATGGAGAAGTGAAAATTGAAGTTCACTTTGAGATC...\n",
       "1   -1.0  TGACAGAGGAGGTCGTGGCCGATCTAATGGAGCCCCACGCGAAAGT...\n",
       "2    1.0  ATCGTTTAGATTTATTATAAAGATTGTTGTGTTTCGAATGATTGTT...\n",
       "3   -1.0  GCGTCGACAGACTCGTCGAGTACGGTAAGTACAGTAAGACACTCTT...\n",
       "4   -1.0  ACGATTCTTCAATCGATCGAAAGGAACTGCCAGACACTCTGGTTTC..."
      ]
     },
     "execution_count": 8,
     "metadata": {},
     "output_type": "execute_result"
    }
   ],
   "source": [
    "data=pd.DataFrame(list(zip(list(mat['LT'][0]),list(mat['XT']))),columns=['label','DNA'])\n",
    "data.head()"
   ]
  },
  {
   "cell_type": "markdown",
   "metadata": {},
   "source": [
    "### Feature Extraction"
   ]
  },
  {
   "cell_type": "markdown",
   "metadata": {},
   "source": [
    "Amino acids in the c.remanei species"
   ]
  },
  {
   "cell_type": "code",
   "execution_count": 9,
   "metadata": {
    "collapsed": true
   },
   "outputs": [],
   "source": [
    "aminos='ACGT'"
   ]
  },
  {
   "cell_type": "code",
   "execution_count": 10,
   "metadata": {
    "collapsed": true
   },
   "outputs": [],
   "source": [
    "from itertools import combinations_with_replacement as cwr\n",
    "import itertools"
   ]
  },
  {
   "cell_type": "markdown",
   "metadata": {},
   "source": [
    "All the combination of trimers possible with amino acids in c.remanei"
   ]
  },
  {
   "cell_type": "code",
   "execution_count": 11,
   "metadata": {},
   "outputs": [
    {
     "data": {
      "text/plain": [
       "64"
      ]
     },
     "execution_count": 11,
     "metadata": {},
     "output_type": "execute_result"
    }
   ],
   "source": [
    "combs = [''.join(p) for p in list(itertools.product(aminos,repeat= 3))]\n",
    "len(combs)"
   ]
  },
  {
   "cell_type": "code",
   "execution_count": 12,
   "metadata": {},
   "outputs": [
    {
     "data": {
      "text/plain": [
       "696"
      ]
     },
     "execution_count": 12,
     "metadata": {},
     "output_type": "execute_result"
    }
   ],
   "source": [
    "columns=[]\n",
    "for i in range(141):\n",
    "    for a in aminos:\n",
    "        columns=columns+['p'+str(i+1)+'_'+a]\n",
    "columns=columns+[s+'_bef' for s in combs]+[s+'_aft' for s in combs]\n",
    "columns+=aminos\n",
    "len(columns)"
   ]
  },
  {
   "cell_type": "markdown",
   "metadata": {},
   "source": [
    "columns contain the dummy variable names for the length of RNA and position of trimers"
   ]
  },
  {
   "cell_type": "code",
   "execution_count": 13,
   "metadata": {
    "collapsed": true
   },
   "outputs": [],
   "source": [
    "import numpy as np\n",
    "feat=np.zeros((25000,len(columns)))"
   ]
  },
  {
   "cell_type": "markdown",
   "metadata": {},
   "source": [
    "Creating features from RNA strings"
   ]
  },
  {
   "cell_type": "code",
   "execution_count": 14,
   "metadata": {
    "collapsed": true
   },
   "outputs": [],
   "source": [
    "for j in range(25000):\n",
    "    for i in range(69):\n",
    "        feat[j,563+combs.index(data.DNA[j][i:i+3])]+=1\n",
    "        feat[j,i*4+aminos.index(data.DNA[j][i])]=1\n",
    "    for i in range(69,139):\n",
    "        feat[j,563+64+combs.index(data.DNA[j][i:i+3])]+=1\n",
    "        feat[j,i*4+aminos.index(data.DNA[j][i])]=1\n",
    "    for i in range(139,141):\n",
    "        feat[j,i*4+aminos.index(data.DNA[j][i])]=1"
   ]
  },
  {
   "cell_type": "markdown",
   "metadata": {},
   "source": [
    "Feature matrix"
   ]
  },
  {
   "cell_type": "code",
   "execution_count": 15,
   "metadata": {},
   "outputs": [
    {
     "data": {
      "text/html": [
       "<div>\n",
       "<style>\n",
       "    .dataframe thead tr:only-child th {\n",
       "        text-align: right;\n",
       "    }\n",
       "\n",
       "    .dataframe thead th {\n",
       "        text-align: left;\n",
       "    }\n",
       "\n",
       "    .dataframe tbody tr th {\n",
       "        vertical-align: top;\n",
       "    }\n",
       "</style>\n",
       "<table border=\"1\" class=\"dataframe\">\n",
       "  <thead>\n",
       "    <tr style=\"text-align: right;\">\n",
       "      <th></th>\n",
       "      <th>p1_A</th>\n",
       "      <th>p1_C</th>\n",
       "      <th>p1_G</th>\n",
       "      <th>p1_T</th>\n",
       "      <th>p2_A</th>\n",
       "      <th>p2_C</th>\n",
       "      <th>p2_G</th>\n",
       "      <th>p2_T</th>\n",
       "      <th>p3_A</th>\n",
       "      <th>p3_C</th>\n",
       "      <th>...</th>\n",
       "      <th>TGG_aft</th>\n",
       "      <th>TGT_aft</th>\n",
       "      <th>TTA_aft</th>\n",
       "      <th>TTC_aft</th>\n",
       "      <th>TTG_aft</th>\n",
       "      <th>TTT_aft</th>\n",
       "      <th>A</th>\n",
       "      <th>C</th>\n",
       "      <th>G</th>\n",
       "      <th>T</th>\n",
       "    </tr>\n",
       "  </thead>\n",
       "  <tbody>\n",
       "    <tr>\n",
       "      <th>0</th>\n",
       "      <td>1.0</td>\n",
       "      <td>0.0</td>\n",
       "      <td>0.0</td>\n",
       "      <td>0.0</td>\n",
       "      <td>0.0</td>\n",
       "      <td>0.0</td>\n",
       "      <td>0.0</td>\n",
       "      <td>1.0</td>\n",
       "      <td>0.0</td>\n",
       "      <td>0.0</td>\n",
       "      <td>...</td>\n",
       "      <td>2.0</td>\n",
       "      <td>0.0</td>\n",
       "      <td>1.0</td>\n",
       "      <td>3.0</td>\n",
       "      <td>2.0</td>\n",
       "      <td>0.0</td>\n",
       "      <td>0.0</td>\n",
       "      <td>0.0</td>\n",
       "      <td>0.0</td>\n",
       "      <td>0.0</td>\n",
       "    </tr>\n",
       "    <tr>\n",
       "      <th>1</th>\n",
       "      <td>0.0</td>\n",
       "      <td>0.0</td>\n",
       "      <td>0.0</td>\n",
       "      <td>1.0</td>\n",
       "      <td>0.0</td>\n",
       "      <td>0.0</td>\n",
       "      <td>1.0</td>\n",
       "      <td>0.0</td>\n",
       "      <td>1.0</td>\n",
       "      <td>0.0</td>\n",
       "      <td>...</td>\n",
       "      <td>0.0</td>\n",
       "      <td>0.0</td>\n",
       "      <td>1.0</td>\n",
       "      <td>0.0</td>\n",
       "      <td>1.0</td>\n",
       "      <td>0.0</td>\n",
       "      <td>0.0</td>\n",
       "      <td>0.0</td>\n",
       "      <td>0.0</td>\n",
       "      <td>0.0</td>\n",
       "    </tr>\n",
       "    <tr>\n",
       "      <th>2</th>\n",
       "      <td>1.0</td>\n",
       "      <td>0.0</td>\n",
       "      <td>0.0</td>\n",
       "      <td>0.0</td>\n",
       "      <td>0.0</td>\n",
       "      <td>0.0</td>\n",
       "      <td>0.0</td>\n",
       "      <td>1.0</td>\n",
       "      <td>0.0</td>\n",
       "      <td>1.0</td>\n",
       "      <td>...</td>\n",
       "      <td>0.0</td>\n",
       "      <td>1.0</td>\n",
       "      <td>4.0</td>\n",
       "      <td>1.0</td>\n",
       "      <td>2.0</td>\n",
       "      <td>0.0</td>\n",
       "      <td>0.0</td>\n",
       "      <td>0.0</td>\n",
       "      <td>0.0</td>\n",
       "      <td>0.0</td>\n",
       "    </tr>\n",
       "    <tr>\n",
       "      <th>3</th>\n",
       "      <td>0.0</td>\n",
       "      <td>0.0</td>\n",
       "      <td>1.0</td>\n",
       "      <td>0.0</td>\n",
       "      <td>0.0</td>\n",
       "      <td>1.0</td>\n",
       "      <td>0.0</td>\n",
       "      <td>0.0</td>\n",
       "      <td>0.0</td>\n",
       "      <td>0.0</td>\n",
       "      <td>...</td>\n",
       "      <td>1.0</td>\n",
       "      <td>1.0</td>\n",
       "      <td>2.0</td>\n",
       "      <td>0.0</td>\n",
       "      <td>1.0</td>\n",
       "      <td>0.0</td>\n",
       "      <td>0.0</td>\n",
       "      <td>0.0</td>\n",
       "      <td>0.0</td>\n",
       "      <td>0.0</td>\n",
       "    </tr>\n",
       "    <tr>\n",
       "      <th>4</th>\n",
       "      <td>1.0</td>\n",
       "      <td>0.0</td>\n",
       "      <td>0.0</td>\n",
       "      <td>0.0</td>\n",
       "      <td>0.0</td>\n",
       "      <td>1.0</td>\n",
       "      <td>0.0</td>\n",
       "      <td>0.0</td>\n",
       "      <td>0.0</td>\n",
       "      <td>0.0</td>\n",
       "      <td>...</td>\n",
       "      <td>1.0</td>\n",
       "      <td>1.0</td>\n",
       "      <td>2.0</td>\n",
       "      <td>1.0</td>\n",
       "      <td>2.0</td>\n",
       "      <td>0.0</td>\n",
       "      <td>0.0</td>\n",
       "      <td>0.0</td>\n",
       "      <td>0.0</td>\n",
       "      <td>0.0</td>\n",
       "    </tr>\n",
       "  </tbody>\n",
       "</table>\n",
       "<p>5 rows × 696 columns</p>\n",
       "</div>"
      ],
      "text/plain": [
       "   p1_A  p1_C  p1_G  p1_T  p2_A  p2_C  p2_G  p2_T  p3_A  p3_C ...   TGG_aft  \\\n",
       "0   1.0   0.0   0.0   0.0   0.0   0.0   0.0   1.0   0.0   0.0 ...       2.0   \n",
       "1   0.0   0.0   0.0   1.0   0.0   0.0   1.0   0.0   1.0   0.0 ...       0.0   \n",
       "2   1.0   0.0   0.0   0.0   0.0   0.0   0.0   1.0   0.0   1.0 ...       0.0   \n",
       "3   0.0   0.0   1.0   0.0   0.0   1.0   0.0   0.0   0.0   0.0 ...       1.0   \n",
       "4   1.0   0.0   0.0   0.0   0.0   1.0   0.0   0.0   0.0   0.0 ...       1.0   \n",
       "\n",
       "   TGT_aft  TTA_aft  TTC_aft  TTG_aft  TTT_aft    A    C    G    T  \n",
       "0      0.0      1.0      3.0      2.0      0.0  0.0  0.0  0.0  0.0  \n",
       "1      0.0      1.0      0.0      1.0      0.0  0.0  0.0  0.0  0.0  \n",
       "2      1.0      4.0      1.0      2.0      0.0  0.0  0.0  0.0  0.0  \n",
       "3      1.0      2.0      0.0      1.0      0.0  0.0  0.0  0.0  0.0  \n",
       "4      1.0      2.0      1.0      2.0      0.0  0.0  0.0  0.0  0.0  \n",
       "\n",
       "[5 rows x 696 columns]"
      ]
     },
     "execution_count": 15,
     "metadata": {},
     "output_type": "execute_result"
    }
   ],
   "source": [
    "feat_mat=pd.DataFrame(feat,columns=columns)\n",
    "feat_mat.head()"
   ]
  },
  {
   "cell_type": "code",
   "execution_count": 16,
   "metadata": {},
   "outputs": [
    {
     "data": {
      "text/plain": [
       "Index(['p1_A', 'p1_C', 'p1_G', 'p1_T', 'p2_A', 'p2_C', 'p2_G', 'p2_T', 'p3_A',\n",
       "       'p3_C',\n",
       "       ...\n",
       "       'TGT_aft', 'TTA_aft', 'TTC_aft', 'TTG_aft', 'TTT_aft', 'A', 'C', 'G',\n",
       "       'T', 'label'],\n",
       "      dtype='object', length=697)"
      ]
     },
     "execution_count": 16,
     "metadata": {},
     "output_type": "execute_result"
    }
   ],
   "source": [
    "feat_mat['label']=data.label\n",
    "feat_mat.columns"
   ]
  },
  {
   "cell_type": "markdown",
   "metadata": {},
   "source": [
    "### Feature Selection"
   ]
  },
  {
   "cell_type": "code",
   "execution_count": 17,
   "metadata": {
    "collapsed": true
   },
   "outputs": [],
   "source": [
    "from sklearn.linear_model import Lasso\n",
    "from sklearn.svm import LinearSVC\n",
    "from sklearn.datasets import load_iris\n",
    "from sklearn.feature_selection import SelectFromModel"
   ]
  },
  {
   "cell_type": "code",
   "execution_count": 18,
   "metadata": {},
   "outputs": [
    {
     "data": {
      "text/plain": [
       "(25000, 295)"
      ]
     },
     "execution_count": 18,
     "metadata": {},
     "output_type": "execute_result"
    }
   ],
   "source": [
    "lsvc = LinearSVC(C=0.4, penalty=\"l1\", dual=False).fit(feat_mat[columns], feat_mat.label)\n",
    "model = SelectFromModel(lsvc, prefit=True)\n",
    "X_new = model.transform(feat_mat[columns])\n",
    "X_new.shape"
   ]
  },
  {
   "cell_type": "code",
   "execution_count": 19,
   "metadata": {
    "collapsed": true
   },
   "outputs": [],
   "source": [
    "from itertools import compress\n",
    "feat_filtered=list(compress(columns,model.get_support()))"
   ]
  },
  {
   "cell_type": "code",
   "execution_count": 20,
   "metadata": {},
   "outputs": [
    {
     "data": {
      "text/plain": [
       "Index(['p1_A', 'p1_T', 'p2_G', 'p3_A', 'p3_G', 'p4_C', 'p4_G', 'p5_A', 'p7_A',\n",
       "       'p8_C',\n",
       "       ...\n",
       "       'TAC_aft', 'TAG_aft', 'TAT_aft', 'TCA_aft', 'TCG_aft', 'TGA_aft',\n",
       "       'TGC_aft', 'TGG_aft', 'TTC_aft', 'TTG_aft'],\n",
       "      dtype='object', length=295)"
      ]
     },
     "execution_count": 20,
     "metadata": {},
     "output_type": "execute_result"
    }
   ],
   "source": [
    "X_new=pd.DataFrame(X_new)\n",
    "X_new.columns=feat_filtered\n",
    "X_new.columns"
   ]
  },
  {
   "cell_type": "markdown",
   "metadata": {},
   "source": [
    "Above are the columns selected through L1 penalty"
   ]
  },
  {
   "cell_type": "markdown",
   "metadata": {},
   "source": [
    "### Training - Testing data split"
   ]
  },
  {
   "cell_type": "code",
   "execution_count": 26,
   "metadata": {
    "collapsed": true
   },
   "outputs": [],
   "source": [
    "from sklearn.model_selection import train_test_split"
   ]
  },
  {
   "cell_type": "code",
   "execution_count": 27,
   "metadata": {
    "collapsed": true
   },
   "outputs": [],
   "source": [
    "x_train, x_val, y_train, y_val = train_test_split(X_new,feat_mat.label,\n",
    "                                                  test_size = .1,\n",
    "                                                  random_state=12)"
   ]
  },
  {
   "cell_type": "code",
   "execution_count": 32,
   "metadata": {},
   "outputs": [
    {
     "data": {
      "text/plain": [
       "(22500, 2500)"
      ]
     },
     "execution_count": 32,
     "metadata": {},
     "output_type": "execute_result"
    }
   ],
   "source": [
    "len(x_train),len(x_val)"
   ]
  },
  {
   "cell_type": "markdown",
   "metadata": {},
   "source": [
    "### Over Sampling"
   ]
  },
  {
   "cell_type": "code",
   "execution_count": 3,
   "metadata": {
    "collapsed": true
   },
   "outputs": [],
   "source": [
    "from imblearn.over_sampling import SMOTE"
   ]
  },
  {
   "cell_type": "code",
   "execution_count": 76,
   "metadata": {
    "collapsed": true
   },
   "outputs": [],
   "source": [
    "r={1:500}\n",
    "smote=SMOTE(random_state=42,ratio=r,)\n",
    "x_train_res, y_train_res = smote.fit_sample(x_train, y_train)"
   ]
  },
  {
   "cell_type": "code",
   "execution_count": 81,
   "metadata": {
    "collapsed": true
   },
   "outputs": [],
   "source": [
    "x_val_res, y_val_res = smote.fit_sample(x_val, y_val)"
   ]
  },
  {
   "cell_type": "code",
   "execution_count": 73,
   "metadata": {},
   "outputs": [
    {
     "data": {
      "text/plain": [
       "24294"
      ]
     },
     "execution_count": 73,
     "metadata": {},
     "output_type": "execute_result"
    }
   ],
   "source": [
    "len(x_train_res)"
   ]
  },
  {
   "cell_type": "markdown",
   "metadata": {},
   "source": [
    "### Modeling"
   ]
  },
  {
   "cell_type": "code",
   "execution_count": 65,
   "metadata": {
    "collapsed": true
   },
   "outputs": [],
   "source": [
    "import statsmodels.api as sm"
   ]
  },
  {
   "cell_type": "code",
   "execution_count": 77,
   "metadata": {
    "collapsed": true
   },
   "outputs": [],
   "source": [
    "y_train_res[y_train_res==-1]=0"
   ]
  },
  {
   "cell_type": "code",
   "execution_count": 79,
   "metadata": {
    "collapsed": true
   },
   "outputs": [],
   "source": [
    "from sklearn import svm"
   ]
  },
  {
   "cell_type": "code",
   "execution_count": 84,
   "metadata": {},
   "outputs": [
    {
     "data": {
      "text/plain": [
       "OneClassSVM(cache_size=200, coef0=0.0, degree=3, gamma=0.1, kernel='rbf',\n",
       "      max_iter=-1, nu=0.1, random_state=None, shrinking=True, tol=0.001,\n",
       "      verbose=False)"
      ]
     },
     "execution_count": 84,
     "metadata": {},
     "output_type": "execute_result"
    }
   ],
   "source": [
    "clf.fit(x_train_res)"
   ]
  },
  {
   "cell_type": "code",
   "execution_count": 86,
   "metadata": {
    "collapsed": true
   },
   "outputs": [],
   "source": [
    "clf = svm.OneClassSVM(nu=0.1, kernel=\"rbf\", gamma=0.1)"
   ]
  },
  {
   "cell_type": "code",
   "execution_count": 89,
   "metadata": {},
   "outputs": [
    {
     "data": {
      "text/plain": [
       "OneClassSVM(cache_size=200, coef0=0.0, degree=3, gamma=0.1, kernel='rbf',\n",
       "      max_iter=-1, nu=0.1, random_state=None, shrinking=True, tol=0.001,\n",
       "      verbose=False)"
      ]
     },
     "execution_count": 89,
     "metadata": {},
     "output_type": "execute_result"
    }
   ],
   "source": [
    "clf.fit(x_train_res)"
   ]
  },
  {
   "cell_type": "code",
   "execution_count": 90,
   "metadata": {},
   "outputs": [],
   "source": [
    "y_pred_train = clf.predict(x_train_res)\n",
    "y_pred_test = clf.predict(x_val_res)"
   ]
  },
  {
   "cell_type": "code",
   "execution_count": 95,
   "metadata": {},
   "outputs": [
    {
     "data": {
      "text/plain": [
       "0.83165322580645162"
      ]
     },
     "execution_count": 95,
     "metadata": {},
     "output_type": "execute_result"
    }
   ],
   "source": [
    "sum(y_pred_test==y_val_res)/len(y_val_res)"
   ]
  }
 ],
 "metadata": {
  "kernelspec": {
   "display_name": "Python 3",
   "language": "python",
   "name": "python3"
  }
 },
 "nbformat": 4,
 "nbformat_minor": 2
}
